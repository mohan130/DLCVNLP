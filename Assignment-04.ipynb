{
 "cells": [
  {
   "cell_type": "code",
   "execution_count": 31,
   "metadata": {},
   "outputs": [],
   "source": [
    "class Traingle():\n",
    "    def __init__(self):\n",
    "        self.a = int(input(\"Enter the 1st side len-> \"))\n",
    "        self.b = int(input(\"Enter the 2nd side len-> \"))\n",
    "        self.c = int(input(\"Enter the 3rd side len-> \"))"
   ]
  },
  {
   "cell_type": "code",
   "execution_count": 32,
   "metadata": {},
   "outputs": [
    {
     "name": "stdout",
     "output_type": "stream",
     "text": [
      "Enter the 1st side len-> 12\n",
      "Enter the 2nd side len-> 13\n",
      "Enter the 3rd side len-> 14\n"
     ]
    },
    {
     "data": {
      "text/plain": [
       "72.30793524918272"
      ]
     },
     "execution_count": 32,
     "metadata": {},
     "output_type": "execute_result"
    }
   ],
   "source": [
    "class Traingle_Area(Traingle):\n",
    "    def traingle_area(self):\n",
    "        a= self.a\n",
    "        b= self.b\n",
    "        c= self.c\n",
    "        s = (a+b+c)/2\n",
    "        area = (s*(s-a)*(s-b)*(s-c))**0.5\n",
    "        return area\n",
    "val = Traingle_Area()\n",
    "val.traingle_area()"
   ]
  },
  {
   "cell_type": "code",
   "execution_count": 12,
   "metadata": {},
   "outputs": [
    {
     "name": "stdout",
     "output_type": "stream",
     "text": [
      "['anc', 'vjkvf']\n"
     ]
    }
   ],
   "source": [
    "str_list = ['anc','vjkvf','s','pd']\n",
    "def func(mylist, n):\n",
    "    return list(filter(lambda x:len(x)>n,mylist))\n",
    "print(func(str_list,2))"
   ]
  },
  {
   "cell_type": "code",
   "execution_count": 10,
   "metadata": {},
   "outputs": [
    {
     "data": {
      "text/plain": [
       "[3, 5, 1]"
      ]
     },
     "execution_count": 10,
     "metadata": {},
     "output_type": "execute_result"
    }
   ],
   "source": [
    "str_list = ['anc','vjkvf','s']\n",
    "list(map(lambda x:len(x),str_list))"
   ]
  },
  {
   "cell_type": "code",
   "execution_count": 16,
   "metadata": {},
   "outputs": [
    {
     "name": "stdout",
     "output_type": "stream",
     "text": [
      "Enter the character-> O\n"
     ]
    },
    {
     "data": {
      "text/plain": [
       "True"
      ]
     },
     "execution_count": 16,
     "metadata": {},
     "output_type": "execute_result"
    }
   ],
   "source": [
    "def vowCheck():\n",
    "    vowel = set(\"aeiouAEIOU\")\n",
    "    if(input(\"Enter the character-> \") in vowel):\n",
    "        return True\n",
    "    else:\n",
    "        return False\n",
    "vowCheck()"
   ]
  },
  {
   "cell_type": "code",
   "execution_count": null,
   "metadata": {},
   "outputs": [],
   "source": []
  }
 ],
 "metadata": {
  "kernelspec": {
   "display_name": "Python 3",
   "language": "python",
   "name": "python3"
  },
  "language_info": {
   "codemirror_mode": {
    "name": "ipython",
    "version": 3
   },
   "file_extension": ".py",
   "mimetype": "text/x-python",
   "name": "python",
   "nbconvert_exporter": "python",
   "pygments_lexer": "ipython3",
   "version": "3.7.3"
  }
 },
 "nbformat": 4,
 "nbformat_minor": 2
}
